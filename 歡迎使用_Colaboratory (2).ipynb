{
  "cells": [
    {
      "cell_type": "code",
      "source": [
        "name = \"謝依謙\"\n",
        "id = \"B1205029\"\n",
        "me = [name,id]\n",
        "print(me)\n",
        "print(type(name),type(id))"
      ],
      "metadata": {
        "colab": {
          "base_uri": "https://localhost:8080/"
        },
        "id": "CKy_OVLH9Msl",
        "outputId": "b74b8ca2-e3a4-4205-d7b1-ba90aaa24d82"
      },
      "execution_count": 1,
      "outputs": [
        {
          "output_type": "stream",
          "name": "stdout",
          "text": [
            "['謝依謙', 'B1205029']\n",
            "<class 'str'> <class 'str'>\n"
          ]
        }
      ]
    }
  ],
  "metadata": {
    "colab": {
      "name": "歡迎使用 Colaboratory",
      "toc_visible": true,
      "provenance": []
    },
    "kernelspec": {
      "display_name": "Python 3",
      "name": "python3"
    }
  },
  "nbformat": 4,
  "nbformat_minor": 0
}