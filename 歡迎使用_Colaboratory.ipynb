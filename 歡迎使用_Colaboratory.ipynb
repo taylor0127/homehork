{
  "cells": [
    {
      "cell_type": "code",
      "source": [
        "import random\n",
        "target_number = random.randint(1,100)\n",
        "\n",
        "print(\"歡迎參加猜數字遊戲!\")\n",
        "\n",
        "while True:\n",
        "  guess = input(\"輸入數字: \")\n",
        "  n = int(guess)\n",
        "  if n > target_number:\n",
        "    print(\"數字太大\")\n",
        "  elif n < target_number:\n",
        "    print(\"數字太小\")\n",
        "  elif n == target_number:\n",
        "    print(\"猜對了!\")\n",
        "    break\n",
        "\n",
        "print(\"遊戲結束!\")"
      ],
      "metadata": {
        "id": "u4AuOtAWB-Wv",
        "outputId": "5253b452-8028-4338-94f3-11d036c39ad2",
        "colab": {
          "base_uri": "https://localhost:8080/"
        }
      },
      "execution_count": 6,
      "outputs": [
        {
          "output_type": "stream",
          "name": "stdout",
          "text": [
            "歡迎參加猜數字遊戲!\n",
            "輸入數字: 13\n",
            "數字太小\n",
            "輸入數字: 29\n",
            "數字太小\n",
            "輸入數字: 50\n",
            "數字太大\n",
            "輸入數字: 37\n",
            "數字太小\n",
            "輸入數字: 45\n",
            "數字太大\n",
            "輸入數字: 41\n",
            "數字太大\n",
            "輸入數字: 39\n",
            "數字太大\n",
            "輸入數字: 38\n",
            "猜對了!\n",
            "遊戲結束!\n"
          ]
        }
      ]
    },
    {
      "cell_type": "code",
      "source": [
        "n = int(input())\n",
        "for i in range(1,n+1):\n",
        "  for j in range(1,n+1):\n",
        "    product = i * j\n",
        "    print(f\"{i}x{j} = product\")"
      ],
      "metadata": {
        "id": "G87lojtEF2V8",
        "outputId": "f6769588-4427-4137-c978-51ac4cd011ba",
        "colab": {
          "base_uri": "https://localhost:8080/"
        }
      },
      "execution_count": 7,
      "outputs": [
        {
          "output_type": "stream",
          "name": "stdout",
          "text": [
            "5\n",
            "1x1 = product\n",
            "1x2 = product\n",
            "1x3 = product\n",
            "1x4 = product\n",
            "1x5 = product\n",
            "2x1 = product\n",
            "2x2 = product\n",
            "2x3 = product\n",
            "2x4 = product\n",
            "2x5 = product\n",
            "3x1 = product\n",
            "3x2 = product\n",
            "3x3 = product\n",
            "3x4 = product\n",
            "3x5 = product\n",
            "4x1 = product\n",
            "4x2 = product\n",
            "4x3 = product\n",
            "4x4 = product\n",
            "4x5 = product\n",
            "5x1 = product\n",
            "5x2 = product\n",
            "5x3 = product\n",
            "5x4 = product\n",
            "5x5 = product\n"
          ]
        }
      ]
    }
  ],
  "metadata": {
    "colab": {
      "name": "歡迎使用 Colaboratory",
      "toc_visible": true,
      "provenance": []
    },
    "kernelspec": {
      "display_name": "Python 3",
      "name": "python3"
    }
  },
  "nbformat": 4,
  "nbformat_minor": 0
}