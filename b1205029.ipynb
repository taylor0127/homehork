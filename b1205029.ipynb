{
  "nbformat": 4,
  "nbformat_minor": 0,
  "metadata": {
    "colab": {
      "provenance": []
    },
    "kernelspec": {
      "name": "python3",
      "display_name": "Python 3"
    },
    "language_info": {
      "name": "python"
    }
  },
  "cells": [
    {
      "cell_type": "code",
      "execution_count": null,
      "metadata": {
        "id": "7fbzdBf0Ew54"
      },
      "outputs": [],
      "source": [
        "#定義荊防敗毒散\n",
        "prescription = {\n",
        "    '名稱':'荊防敗毒散',\n",
        "    '出典':'奇效良方',\n",
        "    '處方':{\n",
        "        '荊芥':3, #公克\n",
        "        '防風':3,\n",
        "        '羌活':3,\n",
        "        '獨活':3,\n",
        "        '前胡':3,\n",
        "        '川芎':3,\n",
        "        '枳殼':3,\n",
        "        '桔梗':3,\n",
        "        '茯苓':3,\n",
        "        '甘草':1.5,\n",
        "        '生薑':3\n",
        "        },\n",
        "    '效能':['發汗解表，散風祛濕'],\n",
        "    '適應症':['外感風寒濕邪','惡寒發熱','頭痛項強','肢體痠痛','腮腫']\n",
        "    }\n",
        "\n",
        "# 使用 while 迴圈提供查詢服務\n",
        "while True:\n",
        "    query = input(\"\\n想查詢什麼中藥呢？(名稱/出典/處方/效能/適應症/結束查詢)：\")\n",
        "\n",
        "    if query == \"名稱\":\n",
        "        print(f\"{prescription['名稱']}\")\n",
        "    elif query == \"出典\":\n",
        "        print(f\"{prescription['名稱']}的出典為:{prescription['出典']}\")\n",
        "    elif query == \"適應症\":\n",
        "        print(f\"{prescription['名稱']}的適應症有:\")\n",
        "        for symptom in prescription['適應症']:\n",
        "            print(symptom)\n",
        "    elif query == \"處方\":\n",
        "        total_weight = sum(prescription['處方'].values())\n",
        "        print(f\"{prescription['名稱']}的處方為:\")\n",
        "        for medicine, weight in prescription['處方'].items():\n",
        "            print(f\"{medicine}：{weight}公克\")\n",
        "        print(f\"總克數為：{total_weight}公克\")\n",
        "    elif query == \"效能\":\n",
        "        print(f\"{prescription['名稱']}的效能是:{prescription['效能']}\")\n",
        "    elif query == \"結束查詢\":\n",
        "        print(\"謝謝使用本系統，下次再見！\")\n",
        "        break\n",
        "    else:\n",
        "        print(\"輸入無效，請重新輸入。\")\n",
        "\n"
      ]
    },
    {
      "cell_type": "code",
      "source": [],
      "metadata": {
        "id": "LeWyrnadGffI"
      },
      "execution_count": null,
      "outputs": []
    }
  ]
}